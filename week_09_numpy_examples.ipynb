{
  "nbformat": 4,
  "nbformat_minor": 0,
  "metadata": {
    "colab": {
      "provenance": [],
      "authorship_tag": "ABX9TyMGuoSeT1LM9TQ2cUfz4y7h",
      "include_colab_link": true
    },
    "kernelspec": {
      "name": "python3",
      "display_name": "Python 3"
    },
    "language_info": {
      "name": "python"
    }
  },
  "cells": [
    {
      "cell_type": "markdown",
      "metadata": {
        "id": "view-in-github",
        "colab_type": "text"
      },
      "source": [
        "<a href=\"https://colab.research.google.com/github/CommunityRADvocate/ida-spr-25/blob/main/week_09_numpy_examples.ipynb\" target=\"_parent\"><img src=\"https://colab.research.google.com/assets/colab-badge.svg\" alt=\"Open In Colab\"/></a>"
      ]
    },
    {
      "cell_type": "markdown",
      "source": [
        "# NumPy\n",
        "\n",
        "* Stands for \"Numerical Python\"\n",
        "* Deals with numerical data and mathematical equations in a more efficient way than regular Python\n",
        "* Offers advanced mathematical functions and simplifies many numerical concepts"
      ],
      "metadata": {
        "id": "vz9kqZyZ6Nv6"
      }
    },
    {
      "cell_type": "markdown",
      "source": [
        "## Introducing Arrays\n",
        "\n",
        "* Common data structure in many programming languages\n",
        "* NumPy arrays are more restrictive than regular Python lists\n",
        "    * Elements must be of the same data type\n",
        "    * They are immutable\n",
        "\n",
        "Why would we want a more restrictive structure?"
      ],
      "metadata": {
        "id": "vCR65U_L7Im_"
      }
    },
    {
      "cell_type": "code",
      "source": [
        "import numpy as np\n",
        "\n",
        "# create a list\n",
        "my_list = [1, 2, 3, 4, 5]\n",
        "\n",
        "# convert list to a numpy array\n",
        "my_array = np.array(my_list)\n",
        "\n",
        "# print the array\n",
        "print(my_array)"
      ],
      "metadata": {
        "id": "yRERr0Cl7w1Z"
      },
      "execution_count": null,
      "outputs": []
    },
    {
      "cell_type": "markdown",
      "source": [
        "## Multidimensional Arrays"
      ],
      "metadata": {
        "id": "PJlIh1Ys8wIi"
      }
    },
    {
      "cell_type": "markdown",
      "source": [
        "We'll create a 2D array, aka matrix"
      ],
      "metadata": {
        "id": "j2iUKwc2O83z"
      }
    },
    {
      "cell_type": "code",
      "source": [
        "matrix = np.array([[1, 2, 3],\n",
        "                   [4, 5, 6],\n",
        "                   [7, 8, 9]])\n",
        "matrix"
      ],
      "metadata": {
        "id": "ZooJLU1tNvpu"
      },
      "execution_count": null,
      "outputs": []
    },
    {
      "cell_type": "markdown",
      "source": [
        "We can access specific elements in the array by specifying their row and column index"
      ],
      "metadata": {
        "id": "4EteWK-UPK5h"
      }
    },
    {
      "cell_type": "code",
      "source": [
        "# what will I get when I run this?\n",
        "elements = matrix[1][2]\n",
        "elements = matrix[1, 2]\n",
        "elements"
      ],
      "metadata": {
        "id": "biOdB9wgOA3s"
      },
      "execution_count": null,
      "outputs": []
    },
    {
      "cell_type": "markdown",
      "source": [
        "We can get the shape (how many rows and columns) and size (how many total elements) that are in our matrix"
      ],
      "metadata": {
        "id": "_QidhmnhPWFO"
      }
    },
    {
      "cell_type": "code",
      "source": [
        "matrix.shape"
      ],
      "metadata": {
        "id": "2E6dFDh2ONH9"
      },
      "execution_count": null,
      "outputs": []
    },
    {
      "cell_type": "code",
      "source": [
        "matrix.size"
      ],
      "metadata": {
        "id": "585-K_npO1PE"
      },
      "execution_count": null,
      "outputs": []
    },
    {
      "cell_type": "markdown",
      "source": [
        "## Indexing"
      ],
      "metadata": {
        "id": "tAxRB93MO2nc"
      }
    },
    {
      "cell_type": "markdown",
      "source": [
        "Besides directly specifying row and column index, we can use more advanced techniques"
      ],
      "metadata": {
        "id": "GT1dQDUmPmi8"
      }
    },
    {
      "cell_type": "code",
      "source": [
        "# create a list of numbers from 0 to 9\n",
        "my_list = np.arange(10)\n",
        "my_list"
      ],
      "metadata": {
        "id": "tvPGmCREQb_1"
      },
      "execution_count": null,
      "outputs": []
    },
    {
      "cell_type": "code",
      "source": [
        "np.lookfor(\"arange\")"
      ],
      "metadata": {
        "id": "LBOcxC78T-LJ"
      },
      "execution_count": null,
      "outputs": []
    },
    {
      "cell_type": "code",
      "source": [
        "first_element = my_list[0]\n",
        "second_element = my_list[1]\n",
        "first_element, second_element"
      ],
      "metadata": {
        "id": "WM-ug7w-RHg8"
      },
      "execution_count": null,
      "outputs": []
    },
    {
      "cell_type": "code",
      "source": [
        "subset = my_list[2:4]\n",
        "subset"
      ],
      "metadata": {
        "id": "PIcSfb4qRJBu"
      },
      "execution_count": null,
      "outputs": []
    },
    {
      "cell_type": "markdown",
      "source": [
        "## Boolean Array Indexing"
      ],
      "metadata": {
        "id": "guQM2DWSRk5f"
      }
    },
    {
      "cell_type": "code",
      "source": [
        "data = np.array([75, 40, 90, 55, 68, 30, 82, 95, 42, 78])"
      ],
      "metadata": {
        "id": "E61JldZKRzb-"
      },
      "execution_count": null,
      "outputs": []
    },
    {
      "cell_type": "code",
      "source": [
        "# view all elements that are less than 60\n",
        "failing = data[data < 60]\n",
        "failing"
      ],
      "metadata": {
        "id": "uxDY2MAESBPm"
      },
      "execution_count": null,
      "outputs": []
    },
    {
      "cell_type": "markdown",
      "source": [
        "## Slicing\n",
        "\n",
        "* Returns views, not copies\n",
        "    * This means you need to be mindful of manipulating values on slices if you don't intend to change the original dataset"
      ],
      "metadata": {
        "id": "nZILDZV4SR-b"
      }
    },
    {
      "cell_type": "code",
      "source": [
        "my_list"
      ],
      "metadata": {
        "id": "dvPsB_rwSdXc"
      },
      "execution_count": null,
      "outputs": []
    },
    {
      "cell_type": "code",
      "source": [
        "sliced_list = my_list[2:6]\n",
        "sliced_list"
      ],
      "metadata": {
        "id": "YIcYVetFTWYg"
      },
      "execution_count": null,
      "outputs": []
    },
    {
      "cell_type": "code",
      "source": [
        "my_list[:]"
      ],
      "metadata": {
        "id": "pimWii_apDX7"
      },
      "execution_count": null,
      "outputs": []
    },
    {
      "cell_type": "code",
      "source": [
        "sliced_list[0] = 11\n",
        "my_list, sliced_list"
      ],
      "metadata": {
        "id": "mAwvkIzMT3Hk"
      },
      "execution_count": null,
      "outputs": []
    }
  ]
}