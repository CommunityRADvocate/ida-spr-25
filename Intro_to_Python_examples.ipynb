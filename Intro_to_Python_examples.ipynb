{
  "nbformat": 4,
  "nbformat_minor": 0,
  "metadata": {
    "colab": {
      "provenance": [],
      "authorship_tag": "ABX9TyN7+nghzuc6KAMYeHlvY/sG",
      "include_colab_link": true
    },
    "kernelspec": {
      "name": "python3",
      "display_name": "Python 3"
    },
    "language_info": {
      "name": "python"
    }
  },
  "cells": [
    {
      "cell_type": "markdown",
      "metadata": {
        "id": "view-in-github",
        "colab_type": "text"
      },
      "source": [
        "<a href=\"https://colab.research.google.com/github/CommunityRADvocate/ida-spr-25/blob/main/Intro_to_Python_examples.ipynb\" target=\"_parent\"><img src=\"https://colab.research.google.com/assets/colab-badge.svg\" alt=\"Open In Colab\"/></a>"
      ]
    },
    {
      "cell_type": "markdown",
      "source": [
        "## Integer Operations"
      ],
      "metadata": {
        "id": "mtC_TOFLAw1Z"
      }
    },
    {
      "cell_type": "code",
      "execution_count": null,
      "metadata": {
        "id": "AHI4cFjd3-9c"
      },
      "outputs": [],
      "source": [
        "a = 10\n",
        "b = 3\n",
        "\n",
        "# Addition\n",
        "add = a + b\n",
        "print(\"Addition:\", add)\n",
        "\n",
        "# Subtraction\n",
        "subtract = a - b\n",
        "print(\"Subtraction:\", subtract)\n",
        "\n",
        "#Multiplication\n",
        "multiply = a * b\n",
        "print(\"Multiplication:\", multiply)"
      ]
    },
    {
      "cell_type": "markdown",
      "source": [
        "## Strings and Operators"
      ],
      "metadata": {
        "id": "8ViVze9aAsKq"
      }
    },
    {
      "cell_type": "code",
      "source": [
        "name = input(\"What is your name? \")\n",
        "\n",
        "# Concatenate\n",
        "greeting = \"Hello, \" + name\n",
        "print(greeting)\n",
        "\n",
        "# String Methods\n",
        "name_length = len(name)\n",
        "name_uppercase = name.upper()\n",
        "name_lowercase = name.lower()\n",
        "print(name_uppercase)\n",
        "\n",
        "# Templates\n",
        "greeting = f\"Hello, {name}! Your name has {name_length} letters in it!\"\n",
        "\n",
        "# Containment\n",
        "contains_a = \"a\" in name\n",
        "contains_e = \"e\" in name\n",
        "contains_i = \"i\" in name\n",
        "\n",
        "print(greeting)\n",
        "print(\"A?:\", contains_a)\n",
        "print(\"E?:\", contains_e)\n",
        "print(\"I?:\", contains_i)"
      ],
      "metadata": {
        "id": "LoAsBZ-N6SQQ"
      },
      "execution_count": null,
      "outputs": []
    },
    {
      "cell_type": "code",
      "source": [
        "print(name_length)\n",
        "print(name_lowercase)"
      ],
      "metadata": {
        "id": "RxgKyerkeXBK"
      },
      "execution_count": null,
      "outputs": []
    },
    {
      "cell_type": "markdown",
      "source": [
        "## Booleans"
      ],
      "metadata": {
        "id": "hKNiT4I8AmXj"
      }
    },
    {
      "cell_type": "code",
      "source": [
        "print(\"A: \", contains_a)\n",
        "print(\"E: \", contains_e)"
      ],
      "metadata": {
        "id": "_pHRObXs8PlW"
      },
      "execution_count": null,
      "outputs": []
    },
    {
      "cell_type": "markdown",
      "source": [
        "## Comparisons"
      ],
      "metadata": {
        "id": "SSsOZgc2BArJ"
      }
    },
    {
      "cell_type": "code",
      "source": [
        "avg_name_length = 6\n",
        "\n",
        "if name_length == avg_name_length:\n",
        "    print(\"Your name has the same number of letters as the average\")\n",
        "elif name_length < avg_name_length:\n",
        "    print(\"Your name has fewer letters than the average\")\n",
        "elif name_length > avg_name_length:\n",
        "    print(\"Your name has more letters than the average\")\n",
        "else:\n",
        "    print(\"An error has occurred\")"
      ],
      "metadata": {
        "id": "VJ14jR7rBEHq"
      },
      "execution_count": null,
      "outputs": []
    },
    {
      "cell_type": "markdown",
      "source": [
        "## Functions"
      ],
      "metadata": {
        "id": "vSWGuutCIC3i"
      }
    },
    {
      "cell_type": "code",
      "source": [
        "def greet(name):\n",
        "    print(f\"Hello, {name}!\")\n",
        "\n",
        "greet(\"Nicole\")\n",
        "greet('Alice')\n",
        "greet(name)"
      ],
      "metadata": {
        "id": "jjZ5_qmiIG39"
      },
      "execution_count": null,
      "outputs": []
    },
    {
      "cell_type": "markdown",
      "source": [
        "## Returning Values"
      ],
      "metadata": {
        "id": "CHvVpdvsNcme"
      }
    },
    {
      "cell_type": "code",
      "source": [
        "total_bill = float(input(\"Total bill amount: $\"))\n",
        "num_people = int(input(\"Number of people: \"))\n",
        "\n",
        "# calculate and display amount per person\n",
        "print(f\"Each person pays ${total_bill/num_people:.2f}\")"
      ],
      "metadata": {
        "id": "uqUlQWSxNer8"
      },
      "execution_count": null,
      "outputs": []
    },
    {
      "cell_type": "markdown",
      "source": [
        "## Expecting Exceptions"
      ],
      "metadata": {
        "id": "r7xkZ7tPOOOk"
      }
    },
    {
      "cell_type": "code",
      "source": [
        "x = 10 / 0\n",
        "print(x)"
      ],
      "metadata": {
        "id": "_xrvp-zHOlpC"
      },
      "execution_count": null,
      "outputs": []
    },
    {
      "cell_type": "code",
      "source": [
        "try:\n",
        "    x = 10 / 0 #attempting to divide by zero\n",
        "except ZeroDivisionError:\n",
        "    print(\"Error: You cannot divide by zero!\")"
      ],
      "metadata": {
        "id": "7jjBmEslOQjq"
      },
      "execution_count": null,
      "outputs": []
    },
    {
      "cell_type": "code",
      "source": [
        "cp, ma, a = \"secure123\", 3, 0\n",
        "\n",
        "while a < ma:\n",
        "    if input(\"Password?: \") == cp:\n",
        "        print(\"Access granted\")\n",
        "        break\n",
        "    print(\"Incorrect. Try again.\")\n",
        "    a += 1\n",
        "else:\n",
        "    print(\"Max attempts reached. Access denied.\")"
      ],
      "metadata": {
        "id": "EQXq_0eic0CL"
      },
      "execution_count": null,
      "outputs": []
    },
    {
      "cell_type": "code",
      "source": [
        "numbers = [1, 2, 3, 4, 5]\n",
        "total = 0\n",
        "\n",
        "for num in numbers:\n",
        "    total += num\n",
        "    print(\"The current sum of the numbers is: \", total)"
      ],
      "metadata": {
        "id": "L2twGLMZejF3"
      },
      "execution_count": null,
      "outputs": []
    }
  ]
}